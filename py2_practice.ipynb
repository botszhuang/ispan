{
 "cells": [
  {
   "cell_type": "markdown",
   "metadata": {},
   "source": [
    "百貨公司周年慶 消費金額超過 2000 要折 200  \n",
    "\n",
    "請撰寫一支程式  \n",
    "計算客戶消費的結帳金額"
   ]
  },
  {
   "cell_type": "code",
   "execution_count": 17,
   "metadata": {},
   "outputs": [
    {
     "name": "stdout",
     "output_type": "stream",
     "text": [
      "shopping =  5000\n",
      "discount =  4800\n"
     ]
    }
   ],
   "source": [
    "threshold = 2000\n",
    "discount = 200\n",
    "\n",
    "shopping = 5000\n",
    "print( \"shopping = \", 5000 )\n",
    "\n",
    "sub = 0\n",
    "counter = 0\n",
    "\n",
    "sub = shopping ; #print(sub)\n",
    "if sub > threshold :\n",
    "    counter += 1 \n",
    "\n",
    "print ( \"discount = \", shopping - ( counter * discount ) )"
   ]
  },
  {
   "cell_type": "markdown",
   "metadata": {},
   "source": [
    "百貨公司周年慶 消費金額超過 2000 要折 200 \n",
    "4000 折 400 \n",
    "6000 折 300 \n",
    "\n",
    "請撰寫一支程式  \n",
    "計算客戶消費的結帳金額"
   ]
  },
  {
   "cell_type": "code",
   "execution_count": null,
   "metadata": {},
   "outputs": [
    {
     "name": "stdout",
     "output_type": "stream",
     "text": [
      "shopping =  5000\n",
      "discount =  4600\n"
     ]
    }
   ],
   "source": [
    "threshold = 2000\n",
    "discount = 200\n",
    "\n",
    "shopping = 5000\n",
    "print( \"shopping = \", 5000 )\n",
    "\n",
    "sub = 0 \n",
    "counter = 0 \n",
    "\n",
    "sub = shopping ; \n",
    "while sub > threshold :\n",
    "    sub -= threshold ; \n",
    "    counter += 1\n",
    "\n",
    "print ( \"discount = \", shopping - ( counter * discount ) )"
   ]
  },
  {
   "cell_type": "code",
   "execution_count": 20,
   "metadata": {},
   "outputs": [
    {
     "name": "stdout",
     "output_type": "stream",
     "text": [
      "shopping =  5000\n",
      "discount =  4600\n"
     ]
    }
   ],
   "source": [
    "threshold = 2000\n",
    "discount = 200\n",
    "\n",
    "shopping = 5000\n",
    "print( \"shopping = \", 5000 )\n",
    "print ( \"discount = \", shopping - ( ( shopping // threshold ) * discount ) )"
   ]
  }
 ],
 "metadata": {
  "kernelspec": {
   "display_name": ".venv (3.14.0)",
   "language": "python",
   "name": "python3"
  },
  "language_info": {
   "codemirror_mode": {
    "name": "ipython",
    "version": 3
   },
   "file_extension": ".py",
   "mimetype": "text/x-python",
   "name": "python",
   "nbconvert_exporter": "python",
   "pygments_lexer": "ipython3",
   "version": "3.14.0"
  }
 },
 "nbformat": 4,
 "nbformat_minor": 2
}
